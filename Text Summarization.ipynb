{
 "cells": [
  {
   "cell_type": "markdown",
   "id": "4c1ad73a-fc4d-4c84-81d5-c12a2523bbf2",
   "metadata": {},
   "source": [
    "# "
   ]
  },
  {
   "cell_type": "code",
   "execution_count": 1,
   "id": "5d3fa848-2619-4d54-a0a1-330c0617ed19",
   "metadata": {},
   "outputs": [
    {
     "name": "stdout",
     "output_type": "stream",
     "text": [
      "Summary:\n",
      "Moreover, education is essential for economic development and prosperity, driving innovation, productivity, and social mobility. Moreover, education enhances social mobility, allowing individuals to break free from the cycle of poverty and achieve upward socioeconomic mobility.In conclusion, education is fundamental to the advancement of individuals and societies. Moreover, education fosters creativity and innovation, driving advancements in various fields and contributing to the overall betterment of society.Furthermore, education plays a pivotal role in promoting social cohesion and equality. Education promotes tolerance, empathy, and understanding among individuals from diverse backgrounds, fostering mutual respect and cooperation. Education promotes social cohesion, equality, and empowerment, fostering a more just and inclusive society.\n"
     ]
    }
   ],
   "source": [
    "import nltk\n",
    "from nltk.corpus import stopwords\n",
    "from nltk.tokenize import sent_tokenize, word_tokenize\n",
    "from nltk.probability import FreqDist\n",
    "from heapq import nlargest\n",
    "\n",
    "def text_summarization(text, num_sentences):\n",
    "    # Tokenizing the text into sentences\n",
    "    sentences = sent_tokenize(text)\n",
    "    \n",
    "    # Tokenizing the sentences into words\n",
    "    words = word_tokenize(text)\n",
    "    \n",
    "    # Removing stopwords\n",
    "    stop_words = set(stopwords.words(\"english\"))\n",
    "    filtered_words = [word for word in words if word.lower() not in stop_words]\n",
    "    \n",
    "    # Calculating the word frequency\n",
    "    word_freq = FreqDist(filtered_words)\n",
    "    \n",
    "    # Assign score to each sentence based on their word frequency\n",
    "    sentence_scores = {}\n",
    "    for sentence in sentences:\n",
    "        for word in word_tokenize(sentence.lower()):\n",
    "            if word in word_freq.keys():\n",
    "                if sentence not in sentence_scores.keys():\n",
    "                    sentence_scores[sentence] = word_freq[word]\n",
    "                else:\n",
    "                    sentence_scores[sentence] += word_freq[word]\n",
    "    \n",
    "    # Get top 'num_sentences' sentences with highest scores\n",
    "    summarized_sentences = nlargest(num_sentences, sentence_scores, key=sentence_scores.get)\n",
    "    \n",
    "    # Join the sentences to form the summary\n",
    "    summary = ' '.join(summarized_sentences)\n",
    "    return summary\n",
    "\n",
    "# Example usage\n",
    "text = \"Education plays a crucial role in shaping individuals and societies. It is not merely a means to acquire knowledge but also a pathway to personal growth, societal progress, and economic prosperity. In this essay, we will explore the significance of education from various perspectives.Firstly, education empowers individuals with knowledge and skills that are essential for personal development and success. Through education, individuals gain the ability to think critically, solve problems, and communicate effectively. Education provides opportunities for self-discovery and exploration, allowing individuals to pursue their passions and interests. Moreover, education fosters creativity and innovation, driving advancements in various fields and contributing to the overall betterment of society.Furthermore, education plays a pivotal role in promoting social cohesion and equality. By providing equal access to education for all members of society, regardless of their background or circumstances, we can bridge socioeconomic disparities and create a more inclusive society. Education promotes tolerance, empathy, and understanding among individuals from diverse backgrounds, fostering mutual respect and cooperation. It serves as a catalyst for social change and empowerment, enabling individuals to challenge injustice and advocate for positive reforms.Additionally, education is crucial for economic development and prosperity. A well-educated workforce is essential for a thriving economy, as it drives innovation, productivity, and competitiveness. Education equips individuals with the skills demanded by the labor market, enabling them to secure meaningful employment and contribute to economic growth. Moreover, education enhances social mobility, allowing individuals to break free from the cycle of poverty and achieve upward socioeconomic mobility.In conclusion, education is fundamental to the advancement of individuals and societies. It empowers individuals with knowledge, skills, and opportunities for personal and professional growth. Education promotes social cohesion, equality, and empowerment, fostering a more just and inclusive society. Moreover, education is essential for economic development and prosperity, driving innovation, productivity, and social mobility. Therefore, investing in education is not only a moral imperative but also a strategic necessity for building a brighter future for all.\"\n",
    "num_sentences = 5\n",
    "summary = text_summarization(text, num_sentences)\n",
    "print(\"Summary:\")\n",
    "print(summary)\n"
   ]
  },
  {
   "cell_type": "code",
   "execution_count": null,
   "id": "4af645e0-8946-46aa-b3a6-6b4d01c654b0",
   "metadata": {},
   "outputs": [],
   "source": []
  }
 ],
 "metadata": {
  "kernelspec": {
   "display_name": "Python 3 (ipykernel)",
   "language": "python",
   "name": "python3"
  },
  "language_info": {
   "codemirror_mode": {
    "name": "ipython",
    "version": 3
   },
   "file_extension": ".py",
   "mimetype": "text/x-python",
   "name": "python",
   "nbconvert_exporter": "python",
   "pygments_lexer": "ipython3",
   "version": "3.9.13"
  }
 },
 "nbformat": 4,
 "nbformat_minor": 5
}
